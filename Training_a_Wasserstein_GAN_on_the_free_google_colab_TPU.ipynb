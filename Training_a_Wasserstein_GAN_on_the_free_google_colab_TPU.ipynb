{
  "nbformat": 4,
  "nbformat_minor": 0,
  "metadata": {
    "colab": {
      "name": "Training a Wasserstein GAN on the free google colab TPU.ipynb",
      "provenance": [],
      "collapsed_sections": [],
      "toc_visible": true,
      "include_colab_link": true
    },
    "kernelspec": {
      "name": "python3",
      "display_name": "Python 3"
    },
    "accelerator": "TPU"
  },
  "cells": [
    {
      "cell_type": "markdown",
      "metadata": {
        "id": "view-in-github",
        "colab_type": "text"
      },
      "source": [
        "<a href=\"https://colab.research.google.com/github/nianlonggu/Tensorflow-Notebooks/blob/master/Training_a_Wasserstein_GAN_on_the_free_google_colab_TPU.ipynb\" target=\"_parent\"><img src=\"https://colab.research.google.com/assets/colab-badge.svg\" alt=\"Open In Colab\"/></a>"
      ]
    },
    {
      "cell_type": "markdown",
      "metadata": {
        "id": "IagIMk8BNxJK",
        "colab_type": "text"
      },
      "source": [
        "1. Why using TPU?<br>\n",
        "TPU is much faster than GPU. A single TPU contains 8 cores, each with a 8GB memory. During training, each batch of data is equally dispatched to all 8 cores. This means the equivalent memrory size if 8x8 = 64 GB. This make it possible to train some large models.\n",
        "\n",
        "2. How to run GAN on TPU? <br>\n",
        "Using TPU Estimator.<br>\n",
        "Different from classic classification task, training of GAN involves alternation between training Generator and Discriminator. This fact makes it imossible to simply use Keras on TPU. TPU Estimator allows you to more flexibiy configure the network and training optimizer behaviors"
      ]
    },
    {
      "cell_type": "markdown",
      "metadata": {
        "id": "f0j0pAWcPVpx",
        "colab_type": "text"
      },
      "source": [
        "#Start of coding"
      ]
    },
    {
      "cell_type": "code",
      "metadata": {
        "id": "P5g0OXRenwCd",
        "colab_type": "code",
        "colab": {}
      },
      "source": [
        "# here we force google colab to use tensorflow 1.x, the configuration will be slightly different for tf 2.0\n",
        "%tensorflow_version 1.x\n",
        "import tensorflow as tf\n",
        "# tf.enable_eager_execution()\n",
        "import numpy as np\n",
        "# we use mnist dataset as an example\n",
        "import keras.datasets.mnist as mnist\n",
        "import math\n",
        "import os\n",
        "import matplotlib.pyplot as plt\n",
        "import imageio\n",
        "# This is needed for access the google cloud storage to save/restore the model and load the training/testing data.\n",
        "from google.colab import auth\n",
        "auth.authenticate_user()"
      ],
      "execution_count": 0,
      "outputs": []
    },
    {
      "cell_type": "markdown",
      "metadata": {
        "id": "KRkc1Xaoh0Lf",
        "colab_type": "text"
      },
      "source": [
        "## Step 0: Some helper function for visualizing the results"
      ]
    },
    {
      "cell_type": "code",
      "metadata": {
        "id": "rLV8kryEh8IY",
        "colab_type": "code",
        "colab": {}
      },
      "source": [
        "def add_padding( x, padding_size=(2,2,2,2), padding_value = 1 ):\n",
        "    # x is a 4 d ndarray with range [0,1]\n",
        "    background = padding_value * np.ones(  [ x.shape[0], x.shape[1]+ padding_size[0]+padding_size[2], x.shape[2] + padding_size[1]+padding_size[3], x.shape[3]   ]  ).astype(np.float32)\n",
        "    background[:, padding_size[0]:-padding_size[2], padding_size[1]:-padding_size[3], : ] = x\n",
        "    padded_x = background\n",
        "    return padded_x\n",
        "\n",
        "# to convert a bulk of images into grid of images\n",
        "def make_grid(images,  ncol= None):\n",
        "\t# ncol represents the number of columns of the image grid, if ncol is None, then arrange the grid as close to a square as possible\n",
        "\t# This function always assume that the input image is RGB color space , normalized float type\n",
        "\tif np.max(images)-np.min(images) >1 :\n",
        "\t\timages = np.clip( images, -1,1 )\n",
        "\t\timages = images /2 +0.5\n",
        "\t\t\n",
        "\timage_num = images.shape[0]\n",
        "\tnum_h = None\n",
        "\tnum_w = None\n",
        "\tim_h = images.shape[1]\n",
        "\tim_w = images.shape[2]   \n",
        "\tim_c = images.shape[3]\n",
        "\tif (ncol==None):\n",
        "\t\tnum_w = int( np.ceil(np.sqrt(image_num )))\n",
        "\t\tnum_h = int( np.ceil( image_num/ num_w ))\n",
        "\telse:\n",
        "\t\tnum_w = int(ncol)\n",
        "\t\tnum_h = int( np.ceil(  image_num/num_w ))\n",
        "\n",
        "\t# create a white pannel, which is a [height, width, channel] ndarray\n",
        "\tpannel = np.ones(( num_h * im_h, num_w * im_w , im_c )).astype(np.float32)\n",
        "\n",
        "\tfor i in range( image_num ):\n",
        "\t\tstart_h = int(i / num_w) * im_h\n",
        "\t\tstart_w = (i % num_w) * im_w\n",
        "\t\tpannel[ start_h: start_h+im_h , start_w : start_w + im_w ,: ]= images[i,:,:,:]\n",
        "\treturn  pannel"
      ],
      "execution_count": 0,
      "outputs": []
    },
    {
      "cell_type": "markdown",
      "metadata": {
        "id": "2fvhEP8YPwDF",
        "colab_type": "text"
      },
      "source": [
        "## Step 1: preparation of training dataset"
      ]
    },
    {
      "cell_type": "markdown",
      "metadata": {
        "id": "2hqrX6_QP3i-",
        "colab_type": "text"
      },
      "source": [
        "For using TPU in a practical scenario, it is recommended to use **tf.data.TFRecordDataset**. The reason of not using **tf.data.Dataset.from_tensor_slices** is this will store the training dataset directly to the computation graph, which will consume a lot of memory, especially for large training dataset.\n",
        "\n",
        "A typical work flow is: \n",
        "1. generating TFRecod locally; \n",
        "2. uploading TFRecord to google cloud storage bucket; \n",
        "3. load TFRecord data using TFRecordDataset during training."
      ]
    },
    {
      "cell_type": "markdown",
      "metadata": {
        "id": "AkY_j_iaVk-i",
        "colab_type": "text"
      },
      "source": [
        "Get the original image data, write them into TFRecord file. Each image is corresponding to a single record in the TFRecord file"
      ]
    },
    {
      "cell_type": "code",
      "metadata": {
        "id": "zdZWcXNcRpIy",
        "colab_type": "code",
        "colab": {}
      },
      "source": [
        "(X_train, y_train), (X_test, y_test) = mnist.load_data()\n",
        "X_train= X_train[:,:,:,np.newaxis]\n",
        "X_test = X_test[ :,:,:,np.newaxis ]\n",
        "X_train = (X_train/255).astype(np.float32)\n",
        "X_test = (X_test/255).astype(np.float32)\n",
        "\n",
        "print(X_train.shape)"
      ],
      "execution_count": 0,
      "outputs": []
    },
    {
      "cell_type": "markdown",
      "metadata": {
        "id": "LCuzwELGXdie",
        "colab_type": "text"
      },
      "source": [
        "The image shape will be used later on. Then we write mnist images into TFRecord files."
      ]
    },
    {
      "cell_type": "code",
      "metadata": {
        "id": "SGr2RrjzHufG",
        "colab_type": "code",
        "colab": {}
      },
      "source": [
        "def make_tfrecord( file_name, images ):\n",
        "    # define a TFRecordWriter\n",
        "    writer = tf.python_io.TFRecordWriter(file_name, options= tf.io.TFRecordOptions(tf.io.TFRecordCompressionType.GZIP) )\n",
        "    for img in images:\n",
        "        if isinstance( img, str ):  # This case img is the path to the image file\n",
        "            img =imageio.imread(img)\n",
        "            img = (img/255.0).astype(np.float32)\n",
        "        features = { \n",
        "            \"image\": tf.train.Feature( float_list = tf.train.FloatList( value = img.reshape(-1) ) ),\n",
        "            \"image_shape\": tf.train.Feature( int64_list = tf.train.Int64List( value = img.shape )  )}\n",
        "        # tf_serialized_example contains the serialized information about the value and shape of an image\n",
        "        tf_serialized_example = tf.train.Example( features = tf.train.Features( feature = features ) ).SerializeToString()\n",
        "        writer.write( tf_serialized_example )\n",
        "    writer.close()"
      ],
      "execution_count": 0,
      "outputs": []
    },
    {
      "cell_type": "code",
      "metadata": {
        "id": "38vnH2_dICdv",
        "colab_type": "code",
        "colab": {}
      },
      "source": [
        "make_tfrecord( 'mnist_train.tfrecord', X_train  )\n",
        "make_tfrecord( 'mnist_eval.tfrecord', X_test[:5000] )"
      ],
      "execution_count": 0,
      "outputs": []
    },
    {
      "cell_type": "markdown",
      "metadata": {
        "id": "ICsCN2rwcFYh",
        "colab_type": "text"
      },
      "source": [
        "Copy the generated TFRecord to the GCS storage bucket.\n",
        "\n"
      ]
    },
    {
      "cell_type": "code",
      "metadata": {
        "id": "8MmWxSf_aH-g",
        "colab_type": "code",
        "colab": {}
      },
      "source": [
        "! gsutil cp mnist_train.tfrecord mnist_eval.tfrecord gs://gan-tpu-tutorial/data"
      ],
      "execution_count": 0,
      "outputs": []
    },
    {
      "cell_type": "markdown",
      "metadata": {
        "id": "RNmMQH6ZjVw-",
        "colab_type": "text"
      },
      "source": [
        "One can also load multiple TFRecords by \n",
        "\n",
        "\n",
        "```\n",
        "ds=tf.data.TFRecordDataset([\"record1.tfrecord\",\"record2.tfrecord\",\"record3.tfrecord\"], compression_type='GZIP')\n",
        "```\n",
        "\n"
      ]
    },
    {
      "cell_type": "markdown",
      "metadata": {
        "id": "2Ptv-_eHdMJ3",
        "colab_type": "text"
      },
      "source": [
        "## Step 2: configure the TPU Estimator"
      ]
    },
    {
      "cell_type": "markdown",
      "metadata": {
        "id": "5kBNe5eti4hu",
        "colab_type": "text"
      },
      "source": [
        "The TPU Estimator mainly contains two parts: train/eval/test input function, and model function"
      ]
    },
    {
      "cell_type": "markdown",
      "metadata": {
        "id": "fEUzZtjMjQ8-",
        "colab_type": "text"
      },
      "source": [
        "### Prepeare the input_functions for tf estimator"
      ]
    },
    {
      "cell_type": "code",
      "metadata": {
        "id": "0_8CQE3Qlegb",
        "colab_type": "code",
        "colab": {}
      },
      "source": [
        " def parse_tfrecord_func( serialized_record ):\n",
        "    parse_dic = { \"image\": tf.FixedLenFeature(shape=(28,28,1), dtype = tf.float32 ),\n",
        "                  \"image_shape\": tf.FixedLenFeature( shape=(3,), dtype = tf.int64 ) \n",
        "                }\n",
        "    parses_record = tf.parse_single_example( serialized_record, parse_dic )\n",
        "    ## note that parse_single_example can only be placed before batch()\n",
        "    ## parse_example can only be placed after batch()\n",
        "    return {\"image\": parses_record[\"image\"]}\n",
        " \n",
        "def train_input_fn( batch_size ):\n",
        "    \n",
        "    dataset_x_train = tf.data.TFRecordDataset([ \"gs://gan-tpu-tutorial/data/mnist_train.tfrecord\" ], compression_type='GZIP')\n",
        "    \n",
        "    dataset_x_train = dataset_x_train.shuffle(60000).repeat()\n",
        "    pattern = np.array([0,0,0,0,1]).repeat(batch_size).astype(np.float32)\n",
        "    dataset_g_w = tf.data.Dataset.from_tensor_slices( { \"g_w\": pattern  } ).repeat()\n",
        "    dataset_output = tf.data.Dataset.from_tensor_slices( ( np.zeros( ( batch_size ) ).astype(np.float32) ) ).repeat()\n",
        "    \n",
        "    ds = tf.data.Dataset.zip(( dataset_x_train, dataset_g_w, dataset_output))\n",
        "    def merge_func(a,b,c):\n",
        "        a = parse_tfrecord_func(a)\n",
        "        a.update(b)\n",
        "        return a, c\n",
        "    ds = ds.map(merge_func)\n",
        "    return ds.batch( batch_size, drop_remainder = True ).prefetch(buffer_size =1)\n",
        "\n",
        "def eval_input_fn( batch_size ):\n",
        "    dataset_x_eval = tf.data.TFRecordDataset([ \"gs://gan-tpu-tutorial/data/mnist_eval.tfrecord\" ], compression_type='GZIP')\n",
        "    dataset_x_eval = dataset_x_eval.shuffle(10000).repeat()\n",
        "    dataset_output = tf.data.Dataset.from_tensor_slices( ( np.zeros( ( batch_size ) ).astype(np.float32) ) ).repeat()\n",
        "    \n",
        "    ds = tf.data.Dataset.zip(( dataset_x_eval, dataset_output))\n",
        "    def merge_func(a,b):\n",
        "        a = parse_tfrecord_func(a)\n",
        "        return a, b\n",
        "    ds = ds.map(merge_func)\n",
        "    return ds.batch(batch_size, drop_remainder = True).prefetch(buffer_size =1)\n",
        "\n",
        "def predict_input_fn( z ):\n",
        "    dataset_z_input = tf.data.Dataset.from_tensor_slices( ( z.astype(np.float32), np.zeros(( z.shape[0],) ).astype(np.float32)  ) )\n",
        "    return dataset_z_input.batch(64, drop_remainder= False)\n"
      ],
      "execution_count": 0,
      "outputs": []
    },
    {
      "cell_type": "markdown",
      "metadata": {
        "id": "xFUYbc8KAFgq",
        "colab_type": "text"
      },
      "source": [
        "1. dataset_x_train is loaded from the TFRecordDataset, the parse_tfrecord_func is used to convert the serialized tf record examples into image tensors.\n",
        "2. g_w is used to control when to update the generator's parameters. Here the pattern \"0 0 0 0 1\" means training the generator once for every n_critic = 5 batches as stated in WGAN-GP.  This setting is due to the special property of the TPU mechanism\n",
        "3. dataset_output is some dummy values (0) for the label parameter of the estimator.train() function\n",
        "4. Each batch of ds contains follows contents:\n",
        "```\n",
        " features: {\"image\": image_tensors, \"g_w\": g_w }\n",
        " labels: dataset_output (dummy value 0)\n",
        "```\n",
        "5. predict_input_fn doesn't use TFRecord, since in GAN during test we would like to input some random latent vectors to get the output, therefore, using Dataset.from_tensor_slices is more flexible.\n",
        "\n",
        "\n",
        " "
      ]
    },
    {
      "cell_type": "markdown",
      "metadata": {
        "id": "GiLL5ERyaOlo",
        "colab_type": "text"
      },
      "source": [
        "### Define the model_fn part of the TPUEstimator"
      ]
    },
    {
      "cell_type": "markdown",
      "metadata": {
        "id": "3imrYXziac4V",
        "colab_type": "text"
      },
      "source": [
        "#### To be more compact, we first design the generator and discriminator"
      ]
    },
    {
      "cell_type": "code",
      "metadata": {
        "id": "lqesl1k2UWKr",
        "colab_type": "code",
        "colab": {}
      },
      "source": [
        "def generator( z, scope=\"generator\", trainable= True ):\n",
        "    with tf.variable_scope( scope, reuse= tf.AUTO_REUSE ):\n",
        "        net = tf.layers.BatchNormalization()( tf.layers.Dense( 7*7*128, activation= tf.nn.relu )(z) )\n",
        "        net = tf.reshape( net, [ tf.shape(net)[0], 7, 7, 128 ] )\n",
        "        net = tf.layers.BatchNormalization()( tf.layers.Conv2DTranspose( 64, 5, (2,2), \"same\", activation= tf.nn.relu )(net) )\n",
        "        net = tf.layers.BatchNormalization()( tf.layers.Conv2DTranspose( 32, 5, (2,2), \"same\", activation= tf.nn.relu )(net) )\n",
        "        net = tf.layers.Conv2D(1, 5, (1,1), \"same\", activation= tf.nn.sigmoid  )(net)\n",
        "        return net\n",
        "\n",
        "def discriminator( x, scope=\"discriminator\", trainable = True ):\n",
        "    with tf.variable_scope( scope, reuse= tf.AUTO_REUSE ):\n",
        "        net = tf.layers.Conv2D( 32, 5, (2,2), \"same\", activation= tf.nn.leaky_relu )(x) \n",
        "        net = tf.layers.BatchNormalization()( tf.layers.Conv2D( 64, 5, (2,2), \"same\", activation= tf.nn.leaky_relu )(net) )\n",
        "        net = tf.layers.BatchNormalization()( tf.layers.Conv2D( 128, 5, (2,2), \"same\", activation= tf.nn.leaky_relu )(net) )\n",
        "        net = tf.layers.Flatten()(net)\n",
        "        net = tf.layers.BatchNormalization()( tf.layers.Dense( 128, activation= tf.nn.leaky_relu  )(net) )\n",
        "        net = tf.layers.Dense( 1 )(net)\n",
        "        return net"
      ],
      "execution_count": 0,
      "outputs": []
    },
    {
      "cell_type": "markdown",
      "metadata": {
        "id": "wGVNjs5Fktxg",
        "colab_type": "text"
      },
      "source": [
        "Define some metric functions for evaluation"
      ]
    },
    {
      "cell_type": "code",
      "metadata": {
        "id": "dn-rb68Gks8D",
        "colab_type": "code",
        "colab": {}
      },
      "source": [
        "def metric_fn(loss_gen, loss_dis, W_dis ):\n",
        "    \"\"\"Function to return metrics for evaluation.\n",
        "    The input parameters can be arbritary\n",
        "    \"\"\"\n",
        "    return {\"loss_gen\": tf.metrics.mean(loss_gen), \n",
        "            \"loss_dis\": tf.metrics.mean(loss_dis),\n",
        "            \"wasserstein_distance\": tf.metrics.mean( W_dis ),\n",
        "            }"
      ],
      "execution_count": 0,
      "outputs": []
    },
    {
      "cell_type": "code",
      "metadata": {
        "id": "nlTD8xmefpkD",
        "colab_type": "code",
        "colab": {}
      },
      "source": [
        "def model_fn(features, labels, mode, params):\n",
        "    \n",
        "    lr = params[\"learning_rate\"]\n",
        "    z_dim = params[\"z_dim\"]\n",
        "    \n",
        "    if mode == tf.estimator.ModeKeys.TRAIN or mode == tf.estimator.ModeKeys.EVAL:\n",
        "        \"\"\" Part I. create the model networks\"\"\"\n",
        "        x = features[\"image\"]\n",
        "        is_train = mode == tf.estimator.ModeKeys.TRAIN\n",
        "        random_z = tf.random.normal( [tf.shape(x)[0], z_dim ]  )\n",
        "        gen_x = generator( random_z, trainable= is_train )\n",
        "        dis_x = discriminator( x, trainable= is_train )\n",
        "        dis_gen_x = discriminator( gen_x, trainable= is_train )\n",
        "\n",
        "        # This is used to compute the gradient penalty\n",
        "        epsilon = tf.random.uniform( [ tf.shape(x)[0],1,1,1 ], minval=0, maxval= 1 )\n",
        "        interp_x = epsilon * x + (1-epsilon) * gen_x\n",
        "        dis_interp_x = discriminator( interp_x, trainable= is_train )\n",
        "        gradient_x = tf.gradients( dis_interp_x, [ interp_x ]  )[0]\n",
        "        gradient_penalty = tf.square( tf.sqrt( tf.reduce_sum( tf.square(gradient_x ),[1,2,3] ) ) - 1  )\n",
        "        LAMBDA = 10\n",
        "    \n",
        "        \"\"\"Part II. define the loss and relative parameters for mode == TRAIN/EVAL/PREDICT\"\"\"\n",
        "        ## compute loss\n",
        "        loss_dis = dis_gen_x  - dis_x + LAMBDA * gradient_penalty \n",
        "        loss_gen = - dis_gen_x\n",
        "        W_dis = dis_x - dis_gen_x\n",
        "\n",
        "        ## operations for the training mode, define the optimizer, and reconfig it using tpu.CrossShardOptimizer\n",
        "        if mode == tf.estimator.ModeKeys.TRAIN:\n",
        "            g_w = features[\"g_w\"]\n",
        "            loss_dis = tf.reduce_mean( loss_dis   )  \n",
        "            ## when g_w =0, this loss_gen 's gradient will be 0, which means generator is not trained during current batch\n",
        "            loss_gen = tf.reduce_mean( loss_gen * g_w)\n",
        "            W_dis = tf.reduce_mean(W_dis)\n",
        "\n",
        "            # Define the optimizer\n",
        "            d_optimizer = tf.train.AdamOptimizer(learning_rate=lr, beta1=0, beta2= 0.99 )\n",
        "            g_optimizer = tf.train.AdamOptimizer(learning_rate=lr, beta1=0, beta2= 0.99 )\n",
        "            # convert to TPU optimizer version\n",
        "            d_optimizer = tf.tpu.CrossShardOptimizer(d_optimizer)\n",
        "            g_optimizer = tf.tpu.CrossShardOptimizer(g_optimizer)\n",
        "\n",
        "            with tf.control_dependencies( tf.get_collection( tf.GraphKeys.UPDATE_OPS )):\n",
        "                d_op = d_optimizer.minimize( loss = loss_dis, var_list = tf.get_collection(tf.GraphKeys.TRAINABLE_VARIABLES,\\\n",
        "                                           scope=\"discriminator\")  )\n",
        "                g_op = g_optimizer.minimize(loss = loss_gen,  var_list = tf.get_collection(tf.GraphKeys.TRAINABLE_VARIABLES,\\\n",
        "                                           scope=\"generator\"),global_step= tf.train.get_global_step() )\n",
        "                # This group command will group the discriminator optimization and generator optimization together\n",
        "                # all the optimizations in the group will be run during each batch\n",
        "                # g_w can control whether to update the parameters of generator or not, which plays the role of n_critic in WGAN\n",
        "                train_op = tf.group( [ d_op , g_op] )\n",
        "                spec= tf.estimator.tpu.TPUEstimatorSpec(mode=mode, loss= W_dis ,train_op= train_op  )\n",
        "    \n",
        "        ## for EVAL mode, the parameters eval_metrics takes a tuple or list of two elements. The first element is a callable function,\n",
        "        ## The second element is a list of parameters. The return value of the callable function will be shown in the evaluatio results\n",
        "        elif mode == tf.estimator.ModeKeys.EVAL:\n",
        "            spec = tf.estimator.tpu.TPUEstimatorSpec(mode=mode, loss= tf.reduce_mean(W_dis), eval_metrics=(metric_fn, [loss_gen, loss_dis, W_dis ] ) )\n",
        "    \n",
        "    elif mode == tf.estimator.ModeKeys.PREDICT:\n",
        "        \"\"\" construct the model (only the generator part) \"\"\"\n",
        "        input_z = features\n",
        "        gen_x = generator( input_z, trainable= False )\n",
        "\n",
        "        \"\"\"Define the predictions\"\"\"\n",
        "        predictions = { \"generated_images\":  gen_x   }\n",
        "        spec= tf.estimator.tpu.TPUEstimatorSpec( mode = mode, predictions = predictions )\n",
        "\n",
        "    return spec\n"
      ],
      "execution_count": 0,
      "outputs": []
    },
    {
      "cell_type": "markdown",
      "metadata": {
        "id": "qW3Pr7kMlhlL",
        "colab_type": "text"
      },
      "source": [
        "## Create the TPUEstimator entity, and run the train / evaluate/ predict"
      ]
    },
    {
      "cell_type": "markdown",
      "metadata": {
        "id": "h4ci9wIlQFqZ",
        "colab_type": "text"
      },
      "source": [
        "iterations_per_loop means the number of batches fed into TPU before returning to the host CPU"
      ]
    },
    {
      "cell_type": "code",
      "metadata": {
        "id": "6w5PHRG2llnv",
        "colab_type": "code",
        "colab": {}
      },
      "source": [
        "model_dir=\"gs://gan-tpu-tutorial/model\"\n",
        "tpu_address = 'grpc://' + os.environ['COLAB_TPU_ADDR']\n",
        "iterations_per_loop = 200\n",
        "\n",
        "run_config = tf.estimator.tpu.RunConfig(\n",
        "        model_dir=model_dir,\n",
        "        cluster=tf.distribute.cluster_resolver.TPUClusterResolver(tpu_address),\n",
        "        session_config=tf.ConfigProto(allow_soft_placement=True, log_device_placement=True),\n",
        "        tpu_config=tf.estimator.tpu.TPUConfig(iterations_per_loop),\n",
        "        )\n",
        "\n",
        "model = tf.estimator.tpu.TPUEstimator(\n",
        "                               model_fn=model_fn,\n",
        "                               params = {\"learning_rate\": 1e-3, \"z_dim\": 100 },\n",
        "                               config = run_config,\n",
        "                               use_tpu= True,\n",
        "                               train_batch_size=512  ,\n",
        "                               eval_batch_size=512 ,\n",
        "                               predict_batch_size= 64,\n",
        "                              ) "
      ],
      "execution_count": 0,
      "outputs": []
    },
    {
      "cell_type": "markdown",
      "metadata": {
        "id": "bG4s3l1VmZ4p",
        "colab_type": "text"
      },
      "source": [
        "### Training"
      ]
    },
    {
      "cell_type": "markdown",
      "metadata": {
        "id": "LXPrbklrQULY",
        "colab_type": "text"
      },
      "source": [
        "What is the relationship between max_steps and epochs?\n",
        "\n",
        "\n",
        "\n",
        "* max_epoch = max_steps * batch_size / total_number_of_training_samples\n",
        "\n",
        "\n"
      ]
    },
    {
      "cell_type": "code",
      "metadata": {
        "id": "aBPcLb2AXGe5",
        "colab_type": "code",
        "colab": {}
      },
      "source": [
        "model.train( input_fn = lambda params: train_input_fn( params[\"batch_size\"] ), max_steps= 15000 )"
      ],
      "execution_count": 0,
      "outputs": []
    },
    {
      "cell_type": "markdown",
      "metadata": {
        "id": "ALnyXN4BorRZ",
        "colab_type": "text"
      },
      "source": [
        "### Evaluate"
      ]
    },
    {
      "cell_type": "code",
      "metadata": {
        "id": "FIqowXhZoovH",
        "colab_type": "code",
        "colab": {}
      },
      "source": [
        "eval_result = model.evaluate(input_fn=lambda params: eval_input_fn( params[\"batch_size\"]), steps = 10)\n",
        "eval_result"
      ],
      "execution_count": 0,
      "outputs": []
    },
    {
      "cell_type": "markdown",
      "metadata": {
        "id": "WbFZma0bo0gu",
        "colab_type": "text"
      },
      "source": [
        "### Predict"
      ]
    },
    {
      "cell_type": "code",
      "metadata": {
        "id": "qEdET_dco39H",
        "colab_type": "code",
        "colab": {}
      },
      "source": [
        "random_z = np.random.normal( size=(1024, 100)  ).astype(np.float32)\n",
        "pred_results = model.predict( input_fn=lambda params: predict_input_fn(random_z) )\n",
        "images = np.array([ result[\"generated_images\"] for result in pred_results  ])"
      ],
      "execution_count": 0,
      "outputs": []
    },
    {
      "cell_type": "code",
      "metadata": {
        "id": "K399FXJNo4Pb",
        "colab_type": "code",
        "colab": {
          "base_uri": "https://localhost:8080/",
          "height": 378
        },
        "outputId": "a54216a1-d63f-401d-986a-fb91be72d221"
      },
      "source": [
        "print(\"generated images\")\n",
        "plt.figure(figsize = (5,5)) \n",
        "plt.gray()\n",
        "plt.imshow( make_grid(add_padding(images[np.random.choice( images.shape[0], 64, replace= False )  ])).squeeze() )\n",
        "plt.show()\n",
        "\n",
        "imageio.imsave( \"random.png\",  make_grid(add_padding(images)).squeeze() )"
      ],
      "execution_count": 17,
      "outputs": [
        {
          "output_type": "stream",
          "text": [
            "generated images\n"
          ],
          "name": "stdout"
        },
        {
          "output_type": "display_data",
          "data": {
            "image/png": "[encoded data removed]",
            "text/plain": [
              "<Figure size 360x360 with 1 Axes>"
            ]
          },
          "metadata": {
            "tags": []
          }
        },
        {
          "output_type": "stream",
          "text": [
            "WARNING:root:Lossy conversion from float32 to uint8. Range [0, 1]. Convert image to uint8 prior to saving to suppress this warning.\n"
          ],
          "name": "stderr"
        }
      ]
    },
    {
      "cell_type": "code",
      "metadata": {
        "id": "r3L-PNDdS_V2",
        "colab_type": "code",
        "colab": {}
      },
      "source": [
        ""
      ],
      "execution_count": 0,
      "outputs": []
    }
  ]
}