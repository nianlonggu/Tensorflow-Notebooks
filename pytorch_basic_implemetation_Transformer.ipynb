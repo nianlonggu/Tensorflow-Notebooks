{
  "nbformat": 4,
  "nbformat_minor": 0,
  "metadata": {
    "colab": {
      "name": "pytorch_basic_implemetation_Transformer.ipynb",
      "provenance": [],
      "collapsed_sections": [
        "2DWdIH7JgQ4i"
      ],
      "include_colab_link": true
    },
    "kernelspec": {
      "name": "python3",
      "display_name": "Python 3"
    },
    "accelerator": "GPU"
  },
  "cells": [
    {
      "cell_type": "markdown",
      "metadata": {
        "id": "view-in-github",
        "colab_type": "text"
      },
      "source": [
        "<a href=\"https://colab.research.google.com/github/nianlonggu/Tensorflow-Notebooks/blob/master/pytorch_basic_implemetation_Transformer.ipynb\" target=\"_parent\"><img src=\"https://colab.research.google.com/assets/colab-badge.svg\" alt=\"Open In Colab\"/></a>"
      ]
    },
    {
      "cell_type": "code",
      "metadata": {
        "id": "nQst0VSH3NqQ",
        "colab_type": "code",
        "outputId": "775620e1-2eef-4e0f-9423-32e5fd8d2803",
        "colab": {
          "base_uri": "https://localhost:8080/",
          "height": 33
        }
      },
      "source": [
        "from google.colab import drive\n",
        "drive.mount('/content/drive')\n",
        "import os; os.chdir(\"/content/drive/My Drive/Project/NMT\")"
      ],
      "execution_count": 0,
      "outputs": [
        {
          "output_type": "stream",
          "text": [
            "Drive already mounted at /content/drive; to attempt to forcibly remount, call drive.mount(\"/content/drive\", force_remount=True).\n"
          ],
          "name": "stdout"
        }
      ]
    },
    {
      "cell_type": "markdown",
      "metadata": {
        "id": "ZYochix1-Tzf",
        "colab_type": "text"
      },
      "source": [
        "## Data preprocessing"
      ]
    },
    {
      "cell_type": "code",
      "metadata": {
        "id": "cySiCxQJ2K3k",
        "colab_type": "code",
        "colab": {}
      },
      "source": [
        "MAX_LEN = 100"
      ],
      "execution_count": 0,
      "outputs": []
    },
    {
      "cell_type": "markdown",
      "metadata": {
        "id": "-vx6g28o7dXR",
        "colab_type": "text"
      },
      "source": [
        "### load the raw data and convert them first into a dataframe and then into a .csv file for future processing"
      ]
    },
    {
      "cell_type": "code",
      "metadata": {
        "id": "YVyBCbT4PyIj",
        "colab_type": "code",
        "colab": {}
      },
      "source": [
        "\n",
        "import pandas as pd\n",
        "\n",
        "\n",
        "## read file into sentence lists\n",
        "europarl_de = open( \"data/de-en/europarl-v7.de-en.de\", encoding = \"utf-8\" ).read().split(\"\\n\")\n",
        "europarl_en = open( \"data/de-en/europarl-v7.de-en.en\", encoding = \"utf-8\" ).read().split(\"\\n\")\n",
        "\n",
        "raw_data = { \"German\": europarl_de , \"English\":  europarl_en   }\n",
        "df = pd.DataFrame( raw_data, columns=[ \"German\", \"English\" ] )\n",
        "\n",
        "## add two more columns to te data frame\n",
        "df[\"de_len\"] = df[\"German\"].str.count(\" \")\n",
        "df[\"en_len\"] = df[\"English\"].str.count(\" \")\n",
        "## based on added two columns, filter out the src and target sentence which is too long or the length of both differs very much\n",
        "df = df.query( \"de_len < %d & en_len< %d\"%(MAX_LEN*0.15, MAX_LEN*0.15) )\n",
        "df = df.query( \"de_len < en_len * 1.5 & en_len < de_len * 1.5\"  )\n",
        "\n",
        "\n",
        "## Split the dataset into training and validation, and save them into csv files\n",
        "from sklearn.model_selection import train_test_split\n",
        "train, val = train_test_split( df, test_size = 0.1 )\n",
        "\n",
        "train.to_csv(\"train.csv\", index=False)\n",
        "val.to_csv(\"val.csv\", index = False)"
      ],
      "execution_count": 0,
      "outputs": []
    },
    {
      "cell_type": "code",
      "metadata": {
        "id": "NZDwrSAA3s_P",
        "colab_type": "code",
        "outputId": "82d0886e-b0c6-4539-e60d-90cbe8c5e66d",
        "colab": {
          "base_uri": "https://localhost:8080/",
          "height": 33
        }
      },
      "source": [
        "train.shape"
      ],
      "execution_count": 0,
      "outputs": [
        {
          "output_type": "execute_result",
          "data": {
            "text/plain": [
              "(377024, 4)"
            ]
          },
          "metadata": {
            "tags": []
          },
          "execution_count": 4
        }
      ]
    },
    {
      "cell_type": "markdown",
      "metadata": {
        "id": "FN_8hhyK7fRW",
        "colab_type": "text"
      },
      "source": [
        "### based on the train.csv and val.csv, first create Field entity to tokenize a certain field in the dataframe, and then use this Field to create a Tabular Dataset "
      ]
    },
    {
      "cell_type": "code",
      "metadata": {
        "id": "Qwhb5W8c2E5Z",
        "colab_type": "code",
        "outputId": "095290e1-f2e3-4815-d308-ad5e69d64448",
        "colab": {
          "base_uri": "https://localhost:8080/",
          "height": 153
        }
      },
      "source": [
        "!python -m spacy download de"
      ],
      "execution_count": 0,
      "outputs": [
        {
          "output_type": "stream",
          "text": [
            "Requirement already satisfied: de_core_news_sm==2.1.0 from https://github.com/explosion/spacy-models/releases/download/de_core_news_sm-2.1.0/de_core_news_sm-2.1.0.tar.gz#egg=de_core_news_sm==2.1.0 in /usr/local/lib/python3.6/dist-packages (2.1.0)\n",
            "\u001b[38;5;2m✔ Download and installation successful\u001b[0m\n",
            "You can now load the model via spacy.load('de_core_news_sm')\n",
            "\u001b[38;5;2m✔ Linking successful\u001b[0m\n",
            "/usr/local/lib/python3.6/dist-packages/de_core_news_sm -->\n",
            "/usr/local/lib/python3.6/dist-packages/spacy/data/de\n",
            "You can now load the model via spacy.load('de')\n"
          ],
          "name": "stdout"
        }
      ]
    },
    {
      "cell_type": "code",
      "metadata": {
        "id": "8nE8jC9rPyL6",
        "colab_type": "code",
        "colab": {}
      },
      "source": [
        "import spacy\n",
        "import torchtext\n",
        "from torchtext import data, datasets\n",
        "from  torchtext.data import Field, BucketIterator, TabularDataset\n",
        "\n",
        "en = spacy.load(\"en\")\n",
        "de = spacy.load(\"de\")\n",
        "\n",
        "def tokenize_en(s):\n",
        "    return [ tok.text for tok in en.tokenizer(s)]\n",
        "def tokenize_de(s):\n",
        "    return [tok.text for tok in de.tokenizer(s)]\n",
        "\n",
        "\n",
        "DE_Field = Field( tokenize = tokenize_de )\n",
        "## The Deutsch is the input language, so we do not need to add the SOS and EOS token\n",
        "EN_Field = Field( tokenize = tokenize_en, init_token = \"<sos>\", eos_token = \"<eos>\")\n",
        "## here we want to train a DE to EN translator, so we need add SOS and EOS to the English vocabulary\n",
        "\n",
        "## get the train val dataset\n",
        "train, val = TabularDataset.splits(path=\"./\", train=\"train.csv\", validation= \"val.csv\", format=\"csv\", \\\n",
        "                                   fields= [ (\"German\", DE_Field ), (\"English\", EN_Field) ]   )\n",
        "\n",
        "## build vocabulary to each field in the dataframe\n",
        "DE_Field.build_vocab( train, val )\n",
        "EN_Field.build_vocab( train, val )"
      ],
      "execution_count": 0,
      "outputs": []
    },
    {
      "cell_type": "markdown",
      "metadata": {
        "id": "j62DDgXLTuFq",
        "colab_type": "text"
      },
      "source": [
        "### design a \"smart\" Iterator which is able to fetch a mini batch in which the sentence lengths are similar, and the batch size can also be dynamically updated based on the seq length of current batch, so as to utilize the GPU RAM in a more efficient way."
      ]
    },
    {
      "cell_type": "code",
      "metadata": {
        "id": "2k7VNoLqTtgI",
        "colab_type": "code",
        "outputId": "1d3554fe-6207-40b5-ad02-54b8d36b61fa",
        "colab": {
          "base_uri": "https://localhost:8080/",
          "height": 33
        }
      },
      "source": [
        "import torch\n",
        "from torch.autograd import Variable\n",
        "\n",
        "device = torch.device(\"cuda:0\" if torch.cuda.is_available() else \"cpu\")\n",
        "print(device)\n",
        "\n",
        "global max_src_in_batch, max_tgt_in_batch\n",
        "def batch_size_fn(new, count, sofar):\n",
        "    \"\"\"Keep augmenting batch and calculate total number of tokens + padding.\"\"\"\n",
        "    global max_src_in_batch, max_tgt_in_batch\n",
        "    if count == 1:\n",
        "        max_src_in_batch = 0\n",
        "        max_tgt_in_batch = 0\n",
        "    max_src_in_batch = max(max_src_in_batch,  len(new.German))\n",
        "    max_tgt_in_batch = max(max_tgt_in_batch,  len(new.English) + 2)\n",
        "    src_elements = count * max_src_in_batch\n",
        "    tgt_elements = count * max_tgt_in_batch\n",
        "    return max(src_elements, tgt_elements)\n",
        "class MyIterator(data.Iterator):\n",
        "    def create_batches(self):\n",
        "        if self.train:\n",
        "            def pool(d, random_shuffler):\n",
        "                for p in data.batch(d, self.batch_size * 100):\n",
        "                    p_batch = data.batch(\n",
        "                        sorted(p, key=self.sort_key),\n",
        "                        self.batch_size, self.batch_size_fn)\n",
        "                    for b in random_shuffler(list(p_batch)):\n",
        "                        yield b\n",
        "            self.batches = pool(self.data(), self.random_shuffler)\n",
        "            \n",
        "        else:\n",
        "            self.batches = []\n",
        "            for b in data.batch(self.data(), self.batch_size,\n",
        "                                          self.batch_size_fn):\n",
        "                self.batches.append(sorted(b, key=self.sort_key))\n",
        "                \n",
        "                \n"
      ],
      "execution_count": 0,
      "outputs": [
        {
          "output_type": "stream",
          "text": [
            "cuda:0\n"
          ],
          "name": "stdout"
        }
      ]
    },
    {
      "cell_type": "code",
      "metadata": {
        "id": "Qeh6lgkXLVje",
        "colab_type": "code",
        "colab": {}
      },
      "source": [
        "## Here this batch size is actually the roughly total number of tokens for one batch\n",
        "train_iter = MyIterator(train, batch_size=2000, device=None,\n",
        "                        repeat=False, sort_key= lambda x:\n",
        "                        (len(x.German), len(x.English)),\n",
        "                        batch_size_fn=batch_size_fn, train=True,\n",
        "                        shuffle=True)\n",
        "test_iter = MyIterator( val, batch_size=2000, device=None,\n",
        "                        repeat=False, sort_key= lambda x:\n",
        "                        (len(x.German), len(x.English)),\n",
        "                        batch_size_fn=batch_size_fn, train=False,\n",
        "                        shuffle=True)"
      ],
      "execution_count": 0,
      "outputs": []
    },
    {
      "cell_type": "code",
      "metadata": {
        "id": "hw-k-Q2EVDs0",
        "colab_type": "code",
        "outputId": "3623abf6-1544-4276-871b-a42b18102cb7",
        "colab": {
          "base_uri": "https://localhost:8080/",
          "height": 233
        }
      },
      "source": [
        "batch =next(iter(train_iter))\n",
        "print(batch.German.shape)\n",
        "print(batch.German[:,:10])"
      ],
      "execution_count": 0,
      "outputs": [
        {
          "output_type": "stream",
          "text": [
            "torch.Size([12, 153])\n",
            "tensor([[   13,  1216,    27,     9,    39,    13,     9,    36, 13067,    20],\n",
            "        [   76,    30,    67,    75,  4816,   153,   934,     6,     7,   111],\n",
            "        [   11,     4,     4,   123,    41,     3,   679,   393, 17275,    83],\n",
            "        [   51,  2039, 38375,   141,   165,    16,   512, 14640,    26,    38],\n",
            "        [   14,    10,  2602,   681,   122,     8,  8212,     7, 19200,    80],\n",
            "        [ 2658,   101,     7,     3,    15,    14,    59,   136,     7,    84],\n",
            "        [16552,   654,     4,   925,   154,   839,   300,   428,  1335,   720],\n",
            "        [    3,   232,  1128,     2,   189, 61369,    37,     3,  2225,  3616],\n",
            "        [  130,    14,  6055,  1761,     3,  3169,    69,    96,   135,   103],\n",
            "        [   40,  8895,  1394,     3,    33,    10,  4109,    10,  3981,   689],\n",
            "        [  665,   402,  2611,   121,   131,    28,   713,  2626,  2058,   800],\n",
            "        [    2,     2,     2,     2,     2,     2,     2,     2,     2,     2]])\n"
          ],
          "name": "stdout"
        }
      ]
    },
    {
      "cell_type": "markdown",
      "metadata": {
        "id": "1vkdypP_Xzrn",
        "colab_type": "text"
      },
      "source": [
        "Now we have already have the dataloader which enable us to fetch a batch of src and tgt data. Note:<br>\n",
        "1) the batch size and sequence length for each batch is not fixed, while the total number of tokens in one batch is roughly the \"batch_size\" parameter in MyIterator <br>\n",
        "2) for each batch, the shape of next(iter(train_iter)) is [ sequence_length, batch_size ], so in the design of Transformer, we need to transpose it when get the word embedding.\n",
        "\n"
      ]
    },
    {
      "cell_type": "markdown",
      "metadata": {
        "id": "JIdyzKD43TOz",
        "colab_type": "text"
      },
      "source": [
        "## Transformer design"
      ]
    },
    {
      "cell_type": "code",
      "metadata": {
        "id": "0WlASU6nFg0s",
        "colab_type": "code",
        "colab": {}
      },
      "source": [
        "import torch.nn as nn\n",
        "import math\n",
        "import numpy as np\n",
        "\n",
        "## for display some figures\n",
        "from IPython.display import Image\n",
        "\n",
        "SRC_PAD_INDEX = DE_Field.vocab.stoi[\"<pad>\"]\n",
        "TGT_PAD_INDEX = EN_Field.vocab.stoi[\"<pad>\"]"
      ],
      "execution_count": 0,
      "outputs": []
    },
    {
      "cell_type": "markdown",
      "metadata": {
        "id": "3611jPpQYGjq",
        "colab_type": "text"
      },
      "source": [
        "In pytorch the Tensor is more like a ndarray, when we give it a ndarray value, it will immediately load it. In tensorflow instead, we need to define a placeholder, and first construct a static computation graph, and we can only pass real data to the placeholder during runing the model."
      ]
    },
    {
      "cell_type": "code",
      "metadata": {
        "id": "ajM7OPUVWJjG",
        "colab_type": "code",
        "outputId": "f40b22dd-e869-4cd9-8bc0-c2b2b18df099",
        "colab": {
          "base_uri": "https://localhost:8080/",
          "height": 576
        }
      },
      "source": [
        "Image(\"images/Transformer.png\")"
      ],
      "execution_count": 0,
      "outputs": [
        {
          "output_type": "execute_result",
          "data": {
            "image/png": "[encoded data removed]",
            "text/plain": [
              "<IPython.core.display.Image object>"
            ]
          },
          "metadata": {
            "tags": []
          },
          "execution_count": 11
        }
      ]
    },
    {
      "cell_type": "markdown",
      "metadata": {
        "id": "7G04YyJbWU_H",
        "colab_type": "text"
      },
      "source": [
        "Figure comes from [How to code The Transformer in Pytorch](https://towardsdatascience.com/how-to-code-the-transformer-in-pytorch-24db27c8f9ec#d554) and the original paper [Attention is all you need](https://arxiv.org/abs/1706.03762)"
      ]
    },
    {
      "cell_type": "markdown",
      "metadata": {
        "id": "mtgYHOETgy3-",
        "colab_type": "text"
      },
      "source": [
        "### Positional Encoding"
      ]
    },
    {
      "cell_type": "code",
      "metadata": {
        "id": "EX8oBec-U1vw",
        "colab_type": "code",
        "outputId": "524bd7b7-151d-470a-a77c-6cc2555ee096",
        "colab": {
          "base_uri": "https://localhost:8080/",
          "height": 500
        }
      },
      "source": [
        "Image(filename='images/positional_encoding.png')"
      ],
      "execution_count": 0,
      "outputs": [
        {
          "output_type": "execute_result",
          "data": {
            "image/png": "[encoded data removed]",
            "text/plain": [
              "<IPython.core.display.Image object>"
            ]
          },
          "metadata": {
            "tags": []
          },
          "execution_count": 12
        }
      ]
    },
    {
      "cell_type": "markdown",
      "metadata": {
        "id": "PtjKyVcUVsrJ",
        "colab_type": "text"
      },
      "source": [
        "Figure comes from [How to code The Transformer in Pytorch](https://towardsdatascience.com/how-to-code-the-transformer-in-pytorch-24db27c8f9ec#d554)"
      ]
    },
    {
      "cell_type": "markdown",
      "metadata": {
        "id": "dMscQpuYg5xL",
        "colab_type": "text"
      },
      "source": [
        "The goad of Positional encoding is to integrate the positional/sequential information into the sequence embeddings, so that the transformer can learn the ordering information correctly to generate sentences with correct order. "
      ]
    },
    {
      "cell_type": "code",
      "metadata": {
        "id": "x4R7uYHYPyPc",
        "colab_type": "code",
        "colab": {}
      },
      "source": [
        "class PositionalEncoder(nn.Module):\n",
        "    def __init__(self, d_model, max_len = MAX_LEN ):\n",
        "        super().__init__()\n",
        "        self.d_model = d_model  #d_model is the embedding dimension\n",
        "        \n",
        "        # initialize a PE matrix when creating the PositionalEncoder entity\n",
        "        pe = torch.zeros( max_len, self.d_model )\n",
        "        for pos in range( 0, max_len):\n",
        "            for i in range( 0, self.d_model, 2 ):\n",
        "                pe[pos, i ] = math.sin( pos/(10000**(i/self.d_model)) )\n",
        "                if i+1 < self.d_model: \n",
        "                    pe[pos, i+1] = math.cos( pos/( 10000**(i/self.d_model ) ) )\n",
        "        # register a buffer for the module, a buffer is not considered as a model parameter, so it it will not be loaded by model.parameters()\n",
        "        # to access it, use: modudle_entity.buffer_name\n",
        "        pe = pe.unsqueeze(0)  # now the shape becomes [1, max_len, d_model ]\n",
        "        self.register_buffer(\"pe\", pe)\n",
        "        \n",
        "    ## froward function takes a batch of word embeddings (x) [batch_size, seq_len, d_model], crop the pe matrix and add it to the embedding\n",
        "    def forward( self, x ):\n",
        "        # x is the embedding which is a wrapped up tensor, a variable. That's why here we \n",
        "        return x+Variable( self.pe[ :, :x.shape[1],:], requires_grad = False ).cuda()\n",
        "        \n",
        "        \n",
        "    "
      ],
      "execution_count": 0,
      "outputs": []
    },
    {
      "cell_type": "code",
      "metadata": {
        "id": "5vbpRRATURIn",
        "colab_type": "code",
        "outputId": "2ea6324e-7d2c-4a87-f8cf-4290467f5b6e",
        "colab": {
          "base_uri": "https://localhost:8080/",
          "height": 183
        }
      },
      "source": [
        "#test\n",
        "test_p_enc = PositionalEncoder( 6, 10 )\n",
        "test_p_enc.pe"
      ],
      "execution_count": 0,
      "outputs": [
        {
          "output_type": "execute_result",
          "data": {
            "text/plain": [
              "tensor([[[ 0.0000,  1.0000,  0.0000,  1.0000,  0.0000,  1.0000],\n",
              "         [ 0.8415,  0.5403,  0.0464,  0.9989,  0.0022,  1.0000],\n",
              "         [ 0.9093, -0.4161,  0.0927,  0.9957,  0.0043,  1.0000],\n",
              "         [ 0.1411, -0.9900,  0.1388,  0.9903,  0.0065,  1.0000],\n",
              "         [-0.7568, -0.6536,  0.1846,  0.9828,  0.0086,  1.0000],\n",
              "         [-0.9589,  0.2837,  0.2300,  0.9732,  0.0108,  0.9999],\n",
              "         [-0.2794,  0.9602,  0.2749,  0.9615,  0.0129,  0.9999],\n",
              "         [ 0.6570,  0.7539,  0.3192,  0.9477,  0.0151,  0.9999],\n",
              "         [ 0.9894, -0.1455,  0.3629,  0.9318,  0.0172,  0.9999],\n",
              "         [ 0.4121, -0.9111,  0.4057,  0.9140,  0.0194,  0.9998]]])"
            ]
          },
          "metadata": {
            "tags": []
          },
          "execution_count": 14
        }
      ]
    },
    {
      "cell_type": "code",
      "metadata": {
        "id": "iP2uaj43UaBA",
        "colab_type": "code",
        "outputId": "46108c6d-2441-4b9e-f867-d2d1f1af72ca",
        "colab": {
          "base_uri": "https://localhost:8080/",
          "height": 66
        }
      },
      "source": [
        "x= Variable( torch.ones(1,3,6) ).cuda()\n",
        "test_p_enc(x)"
      ],
      "execution_count": 0,
      "outputs": [
        {
          "output_type": "execute_result",
          "data": {
            "text/plain": [
              "tensor([[[1.0000, 2.0000, 1.0000, 2.0000, 1.0000, 2.0000],\n",
              "         [1.8415, 1.5403, 1.0464, 1.9989, 1.0022, 2.0000],\n",
              "         [1.9093, 0.5839, 1.0927, 1.9957, 1.0043, 2.0000]]], device='cuda:0')"
            ]
          },
          "metadata": {
            "tags": []
          },
          "execution_count": 15
        }
      ]
    },
    {
      "cell_type": "markdown",
      "metadata": {
        "id": "cH2v0eD-ssKW",
        "colab_type": "text"
      },
      "source": [
        "Usually in a Module there will be some new Variables (trainable or not) being created. If there is just a serial of operations to existing tensors, then wrap them into a function. E.g. Maksing is actully a function."
      ]
    },
    {
      "cell_type": "markdown",
      "metadata": {
        "id": "_jNU8i_MhcBo",
        "colab_type": "text"
      },
      "source": [
        "### Masking: Padding Mask and Sequence Mask"
      ]
    },
    {
      "cell_type": "markdown",
      "metadata": {
        "id": "2ZOrE3sXhw2-",
        "colab_type": "text"
      },
      "source": [
        "The goal of padding mask is to make the Multi-Head-Attention (MHA) do not pay attention to the padding part of a sequence. Padding mask is used for both encoder and decoder. <br>\n",
        "Sequence mask is only used by decoder. Since the decoder is expected to generate a sentence word by word. When generating current word, it only has the information of previously generated words. The purpose of sequence mask is to prevent the decoder from using future words. <br>\n",
        "\n",
        "Mask module is applied after the dot product of Q and K, before applying softmax."
      ]
    },
    {
      "cell_type": "code",
      "metadata": {
        "id": "NoTjFhD5mrD3",
        "colab_type": "code",
        "colab": {}
      },
      "source": [
        "def atten_mask( x, pad_index, add_sequence_mask = False  ):\n",
        "    ## x is a batch of sequences (not embedding) fetched from the dataset, suppose that its shape is [ batch_size, sequence_length ]\n",
        "    seq_len = x.shape[1]\n",
        "    mask =  x == pad_index\n",
        "    mask =  mask.unsqueeze(1)#.repeat(1, seq_len, 1 )#,  don't add this repeat, otherwise the src_mask cannot applied to the context attention matrix\n",
        "    if add_sequence_mask:\n",
        "        seq_mask =  torch.Tensor(np.triu( np.ones(( seq_len, seq_len )) , k=1)).type( torch.uint8 ).cuda()\n",
        "        mask = mask | seq_mask\n",
        "    \n",
        "    return mask"
      ],
      "execution_count": 0,
      "outputs": []
    },
    {
      "cell_type": "code",
      "metadata": {
        "id": "HhR4G192Kzch",
        "colab_type": "code",
        "outputId": "78c3c3f7-3cda-4427-c463-e51c17c2b7a3",
        "colab": {
          "base_uri": "https://localhost:8080/",
          "height": 66
        }
      },
      "source": [
        "## test\n",
        "x = torch.Tensor([[2,3,4,52,3,1],\n",
        "                  [4,5,6,7,7,3]])\n",
        "mask = atten_mask(  x,1, add_sequence_mask= False  )\n",
        "mask"
      ],
      "execution_count": 0,
      "outputs": [
        {
          "output_type": "execute_result",
          "data": {
            "text/plain": [
              "tensor([[[0, 0, 0, 0, 0, 1]],\n",
              "\n",
              "        [[0, 0, 0, 0, 0, 0]]], dtype=torch.uint8)"
            ]
          },
          "metadata": {
            "tags": []
          },
          "execution_count": 17
        }
      ]
    },
    {
      "cell_type": "markdown",
      "metadata": {
        "id": "8YVpDdzjTFew",
        "colab_type": "text"
      },
      "source": [
        "### Multi Head Attention"
      ]
    },
    {
      "cell_type": "code",
      "metadata": {
        "id": "lxo7K8rHWBgL",
        "colab_type": "code",
        "outputId": "8dc1ed4e-cf27-41ed-c5a9-2275a72ff9b7",
        "colab": {
          "base_uri": "https://localhost:8080/",
          "height": 657
        }
      },
      "source": [
        "Image(\"images/MHA.png\")"
      ],
      "execution_count": 0,
      "outputs": [
        {
          "output_type": "execute_result",
          "data": {
            "image/png": "[encoded data removed]",
            "text/plain": [
              "<IPython.core.display.Image object>"
            ]
          },
          "metadata": {
            "tags": []
          },
          "execution_count": 18
        }
      ]
    },
    {
      "cell_type": "markdown",
      "metadata": {
        "id": "pLNSZKXmWAuo",
        "colab_type": "text"
      },
      "source": [
        "Figure comes from [How to code The Transformer in Pytorch](https://towardsdatascience.com/how-to-code-the-transformer-in-pytorch-24db27c8f9ec#d554) and the original paper [Attention is all you need](https://arxiv.org/abs/1706.03762)"
      ]
    },
    {
      "cell_type": "markdown",
      "metadata": {
        "id": "kVfclRaIZfxR",
        "colab_type": "text"
      },
      "source": [
        "The key part is to compute the scaled dot-product attention. Note that there is no new Variables being created, only operation over existing Variables, so we use a function to describe it."
      ]
    },
    {
      "cell_type": "code",
      "metadata": {
        "id": "GkHMMd4-iP67",
        "colab_type": "code",
        "colab": {}
      },
      "source": [
        "import torch.nn.functional as F"
      ],
      "execution_count": 0,
      "outputs": []
    },
    {
      "cell_type": "code",
      "metadata": {
        "id": "402kKAvUUocA",
        "colab_type": "code",
        "colab": {}
      },
      "source": [
        "def scaled_dot_product_attention( q, k, v, d_k , mask= None ):\n",
        "    # q shape [Batch_size , head_num , seq_len_q, d_q ]\n",
        "    # k shape [Batch_size , head_num, seq_len_k, d_k  ]\n",
        "    # v shape [Batch_size , head_num, seq_len_v, d_v ]\n",
        "    # d_k = d_q \n",
        "    # Usually, d_k = d_q = d_v = d_model / head_num, where d_model is usally the word embedding dimension\n",
        "    a = torch.matmul( q, k.transpose(-2,-1) )/math.sqrt(d_k)\n",
        "    \n",
        "    if mask is not None:\n",
        "        ## mask is originally 3 dimension, that why here we need to first add one more dimension\n",
        "        mask = mask.unsqueeze(1)\n",
        "        a = a.masked_fill( mask, -np.Inf )\n",
        "\n",
        "    ## if the last dimension there are all -np.Inf, the output will be nan. \n",
        "    ## But when running the model there is no cases where a whole row of the attention table a is masked, so we can use -np.Inf\n",
        "    a = F.softmax(a, dim = -1 )\n",
        "    output = torch.matmul( a, v )\n",
        "    return output   \n",
        "    "
      ],
      "execution_count": 0,
      "outputs": []
    },
    {
      "cell_type": "code",
      "metadata": {
        "id": "kpRHBJDtl-iS",
        "colab_type": "code",
        "colab": {}
      },
      "source": [
        "## test\n",
        "q= torch.randn(2,2,3,3)\n",
        "k= torch.randn(2,2,3,3)\n",
        "v= torch.randn(2,2,3,3)\n",
        "mask= torch.Tensor(np.triu( np.random.randn(2,3,3), k=1))!=0"
      ],
      "execution_count": 0,
      "outputs": []
    },
    {
      "cell_type": "code",
      "metadata": {
        "id": "AJYlXUHHmPqw",
        "colab_type": "code",
        "outputId": "95e9d9a1-60a1-4c97-e613-72d02550e93b",
        "colab": {
          "base_uri": "https://localhost:8080/",
          "height": 283
        }
      },
      "source": [
        "scaled_dot_product_attention( q,k,v, k.shape[-1] , mask)"
      ],
      "execution_count": 0,
      "outputs": [
        {
          "output_type": "execute_result",
          "data": {
            "text/plain": [
              "tensor([[[[ 1.3732, -0.7828,  1.0139],\n",
              "          [ 0.9664, -0.8050,  1.0181],\n",
              "          [ 0.4598, -0.5140,  1.1041]],\n",
              "\n",
              "         [[-0.8896,  0.2838, -0.0869],\n",
              "          [-0.8025,  0.3034, -0.5429],\n",
              "          [-0.5304,  0.0723, -0.9016]]],\n",
              "\n",
              "\n",
              "        [[[ 0.6805, -0.2969, -0.7366],\n",
              "          [-0.1452,  0.6162, -0.5890],\n",
              "          [-0.0111,  0.4010, -0.3879]],\n",
              "\n",
              "         [[ 0.5277, -0.3647, -0.2432],\n",
              "          [ 0.6919,  0.9350, -0.5890],\n",
              "          [ 0.7394,  0.4775, -0.2833]]]])"
            ]
          },
          "metadata": {
            "tags": []
          },
          "execution_count": 22
        }
      ]
    },
    {
      "cell_type": "markdown",
      "metadata": {
        "id": "aCBIbSI8tYlJ",
        "colab_type": "text"
      },
      "source": [
        "Now it's the module for MultiHeadAttention"
      ]
    },
    {
      "cell_type": "code",
      "metadata": {
        "id": "sy1_3iIhvGFs",
        "colab_type": "code",
        "colab": {}
      },
      "source": [
        "## define a naive initilize function for initialize for testing\n",
        "## Note that in the weight of the linear module, the first dimension is the output dimension, while the second dimension is the input dimension.\n",
        "def naive_init( linear_module ):\n",
        "    linear_module.weight = torch.nn.Parameter(torch.ones(linear_module.weight.shape[0],linear_module.weight.shape[1] ))\n",
        "    linear_module.bias = torch.nn.Parameter(torch.Tensor([0]).expand(linear_module.bias.shape[0]))"
      ],
      "execution_count": 0,
      "outputs": []
    },
    {
      "cell_type": "code",
      "metadata": {
        "id": "OEJ041Y6tVxB",
        "colab_type": "code",
        "colab": {}
      },
      "source": [
        "class MultiHeadAttention(nn.Module):\n",
        "    def __init__(self, d_model, num_head, test_mode = False  ):\n",
        "        super().__init__()\n",
        "        self.d_model = d_model,\n",
        "        self.num_head = num_head\n",
        "        self.d_k = d_model // num_head\n",
        "        \n",
        "        self.linear_q = nn.Linear( d_model, self.d_k * num_head )\n",
        "        self.linear_k = nn.Linear( d_model, self.d_k * num_head )\n",
        "        self.linear_v = nn.Linear( d_model, self.d_k * num_head )\n",
        "        \n",
        "        self.linear_out = nn.Linear( self.d_k * num_head, d_model )\n",
        "        \n",
        "        if test_mode:\n",
        "            naive_init( self.linear_q )\n",
        "            naive_init( self.linear_k )\n",
        "            naive_init( self.linear_v )\n",
        "            naive_init( self.linear_out )\n",
        "    \n",
        "    def forward(self, q,k,v, mask = None ):\n",
        "        q = self.linear_q(q)\n",
        "        k = self.linear_k(k)\n",
        "        v = self.linear_v(v)\n",
        "        \n",
        "        \n",
        "        \n",
        "        batch_size = q.shape[0]\n",
        "        q = q.view( batch_size, -1, self.num_head, self.d_k  )\n",
        "        k = k.view( batch_size, -1, self.num_head, self.d_k  )\n",
        "        v = v.view( batch_size, -1, self.num_head, self.d_k  )\n",
        "        \n",
        "        \n",
        "        # tranpose the matrix, to put the vectors in the same head together, note that here is transpose, not reshape\n",
        "        \"\"\"\n",
        "            e.g:  before:  [ [1,2],[3,4] ], here 1 and 2 come from head 1 and head 2 separately. 3 and 4 come from head 1 and head 2\n",
        "            reparately. If we want to put the elements of the same head together, we can use tranpose(0,1) to get\n",
        "            [[1,3],[2,4]]\n",
        "        \"\"\"\n",
        "        q = q.transpose(1,2)\n",
        "        k = k.transpose(1,2)\n",
        "        v = v.transpose(1,2)\n",
        "        out = scaled_dot_product_attention( q, k, v, self.d_k , mask= mask )\n",
        "        out = out.transpose( 1,2 ).contiguous().view( batch_size, -1, self.num_head * self.d_k )\n",
        "        \n",
        "        out = self.linear_out( out )\n",
        "        \n",
        "        return out\n",
        "        "
      ],
      "execution_count": 0,
      "outputs": []
    },
    {
      "cell_type": "markdown",
      "metadata": {
        "id": "2DWdIH7JgQ4i",
        "colab_type": "text"
      },
      "source": [
        "##### Why do we use the contiguous() function?"
      ]
    },
    {
      "cell_type": "code",
      "metadata": {
        "id": "5duiK_06c8-q",
        "colab_type": "code",
        "outputId": "ef918fcd-0c2c-4869-e58c-0f9a1d8c5b38",
        "colab": {
          "base_uri": "https://localhost:8080/"
        }
      },
      "source": [
        "### \n",
        "\"\"\"\n",
        "tensor.contiguous() will create a copy of the tensor, and the element in the copy will be stored in the memory in a contiguous way.\n",
        "The contiguous() function is usually required when we first transpose() a tensor and then reshape (view) it. \n",
        "\"\"\"\n",
        "\n",
        "aaa = torch.Tensor( [[1,2,3],[4,5,6]] )\n",
        "print(aaa.stride())\n",
        "print(aaa.is_contiguous())"
      ],
      "execution_count": 0,
      "outputs": [
        {
          "output_type": "stream",
          "text": [
            "(3, 1)\n",
            "True\n"
          ],
          "name": "stdout"
        }
      ]
    },
    {
      "cell_type": "markdown",
      "metadata": {
        "id": "exGLlmssfe1E",
        "colab_type": "text"
      },
      "source": [
        "The stride() return (3,1) means that: when moving along the first dimension by each step (row by row), we need to move 3 steps in the memory. When moving along the second dimension (column by column), we need to move 1 step in the memory. This indicates that the elements in the tensor are stored contiguously."
      ]
    },
    {
      "cell_type": "code",
      "metadata": {
        "id": "GroXq496gN6d",
        "colab_type": "code",
        "outputId": "76fec2cd-5fbc-497a-9ac0-df0a26ed54f9",
        "colab": {
          "base_uri": "https://localhost:8080/"
        }
      },
      "source": [
        "bbb = aaa.transpose(0,1)\n",
        "print(bbb.stride())\n",
        "print(bbb.is_contiguous())\n",
        "\n",
        "ccc = aaa.narrow(1,1,2)   ## equivalent to matrix slicing aaa[:,1:3]\n",
        "print(ccc.stride())\n",
        "print(ccc.is_contiguous())\n",
        "\n",
        "\n",
        "ddd = aaa.repeat(2,1 )   # The first dimension repeat once, the second dimension repeat twice\n",
        "print(ddd.stride())\n",
        "print(ddd.is_contiguous())\n",
        "\n",
        "## expand is different from repeat  if a tensor has a shape [d1,d2,1], it can only be expanded using \"expand(d1,d2,d3)\", which\n",
        "## means the singleton dimension is repeated d3 times\n",
        "eee = aaa.unsqueeze(2).expand(2,3,3)\n",
        "print(eee.stride())\n",
        "print(eee.is_contiguous())\n",
        "\n",
        "fff = aaa.unsqueeze(2).repeat(1,1,8).view(2,-1,2)\n",
        "print(fff.stride())\n",
        "print(fff.is_contiguous())"
      ],
      "execution_count": 0,
      "outputs": [
        {
          "output_type": "stream",
          "text": [
            "(1, 3)\n",
            "False\n",
            "(3, 1)\n",
            "False\n",
            "(3, 1)\n",
            "True\n",
            "(3, 1, 0)\n",
            "False\n",
            "(24, 2, 1)\n",
            "True\n"
          ],
          "name": "stdout"
        }
      ]
    },
    {
      "cell_type": "markdown",
      "metadata": {
        "id": "9V-yioOhnAZj",
        "colab_type": "text"
      },
      "source": [
        "Ok, we can find that **transpose(), narrow() and tensor slicing, and expand()** will make the generated tensor not contiguous. Interestingly, repeat() and view() does not make it discontiguous. So now the question is: **what happens if I use a discontiguous tensor?**"
      ]
    },
    {
      "cell_type": "markdown",
      "metadata": {
        "id": "GcEXkVcJoTGA",
        "colab_type": "text"
      },
      "source": [
        "The answer is it the view() function cannot be applied to a discontiguous tensor. This is probably because view() requires that the tensor to be contiguously stored so that it can do fast reshape in memory. e.g:"
      ]
    },
    {
      "cell_type": "code",
      "metadata": {
        "id": "yHkik45pijLG",
        "colab_type": "code",
        "colab": {}
      },
      "source": [
        "# bbb.view(-1,3)"
      ],
      "execution_count": 0,
      "outputs": []
    },
    {
      "cell_type": "markdown",
      "metadata": {
        "id": "C0dADbBkoljN",
        "colab_type": "text"
      },
      "source": [
        "To solve this, simply add contiguous() to a discontiguous tensor, to create contiguous copy and then apply view()"
      ]
    },
    {
      "cell_type": "code",
      "metadata": {
        "id": "l8f6DxmMojh_",
        "colab_type": "code",
        "outputId": "77bc7cac-ef08-4468-82b6-935cd32ba224",
        "colab": {
          "base_uri": "https://localhost:8080/"
        }
      },
      "source": [
        "bbb.contiguous().view(-1,3)"
      ],
      "execution_count": 0,
      "outputs": [
        {
          "output_type": "execute_result",
          "data": {
            "text/plain": [
              "tensor([[1., 4., 2.],\n",
              "        [5., 3., 6.]])"
            ]
          },
          "metadata": {
            "tags": []
          },
          "execution_count": 28
        }
      ]
    },
    {
      "cell_type": "markdown",
      "metadata": {
        "id": "EbUmmJT7rp9X",
        "colab_type": "text"
      },
      "source": [
        "####  test MHA"
      ]
    },
    {
      "cell_type": "code",
      "metadata": {
        "id": "xaC9rWm2uB3T",
        "colab_type": "code",
        "colab": {}
      },
      "source": [
        "q= torch.randn(2,4,15)\n",
        "k= torch.randn(2,4,15)\n",
        "v= torch.randn(2,4,15)\n",
        "mask= torch.Tensor(np.triu( np.random.randn(2,4,4), k=1))!=0"
      ],
      "execution_count": 0,
      "outputs": []
    },
    {
      "cell_type": "code",
      "metadata": {
        "id": "7rYzuFr01567",
        "colab_type": "code",
        "outputId": "db16685c-de2c-4915-f62f-937d3902ceb4",
        "colab": {
          "base_uri": "https://localhost:8080/",
          "height": 433
        }
      },
      "source": [
        "mha = MultiHeadAttention(15,3, test_mode = True)\n",
        "\n",
        "atten = mha(q,k,v,mask)\n",
        "atten"
      ],
      "execution_count": 0,
      "outputs": [
        {
          "output_type": "execute_result",
          "data": {
            "text/plain": [
              "tensor([[[ 41.6856,  41.6856,  41.6856,  41.6856,  41.6856,  41.6856,  41.6856,\n",
              "           41.6856,  41.6856,  41.6856,  41.6856,  41.6856,  41.6856,  41.6856,\n",
              "           41.6856],\n",
              "         [ -9.3566,  -9.3566,  -9.3566,  -9.3566,  -9.3566,  -9.3566,  -9.3566,\n",
              "           -9.3566,  -9.3566,  -9.3566,  -9.3566,  -9.3566,  -9.3566,  -9.3566,\n",
              "           -9.3566],\n",
              "         [-28.2555, -28.2555, -28.2555, -28.2555, -28.2555, -28.2555, -28.2555,\n",
              "          -28.2555, -28.2555, -28.2555, -28.2555, -28.2555, -28.2555, -28.2555,\n",
              "          -28.2555],\n",
              "         [  9.2964,   9.2964,   9.2964,   9.2964,   9.2964,   9.2964,   9.2964,\n",
              "            9.2964,   9.2964,   9.2964,   9.2964,   9.2964,   9.2964,   9.2964,\n",
              "            9.2964]],\n",
              "\n",
              "        [[  2.8902,   2.8902,   2.8902,   2.8902,   2.8902,   2.8902,   2.8902,\n",
              "            2.8902,   2.8902,   2.8902,   2.8902,   2.8902,   2.8902,   2.8902,\n",
              "            2.8902],\n",
              "         [  1.6232,   1.6232,   1.6232,   1.6232,   1.6232,   1.6232,   1.6232,\n",
              "            1.6232,   1.6232,   1.6232,   1.6232,   1.6232,   1.6232,   1.6232,\n",
              "            1.6232],\n",
              "         [  2.8902,   2.8902,   2.8902,   2.8902,   2.8902,   2.8902,   2.8902,\n",
              "            2.8902,   2.8902,   2.8902,   2.8902,   2.8902,   2.8902,   2.8902,\n",
              "            2.8902],\n",
              "         [111.8245, 111.8245, 111.8245, 111.8245, 111.8245, 111.8245, 111.8245,\n",
              "          111.8245, 111.8245, 111.8245, 111.8245, 111.8245, 111.8245, 111.8245,\n",
              "          111.8245]]], grad_fn=<AddBackward0>)"
            ]
          },
          "metadata": {
            "tags": []
          },
          "execution_count": 30
        }
      ]
    },
    {
      "cell_type": "markdown",
      "metadata": {
        "id": "1GYLaWnq8Vde",
        "colab_type": "text"
      },
      "source": [
        "### Feedforward Network"
      ]
    },
    {
      "cell_type": "markdown",
      "metadata": {
        "id": "lzkEBEr08ktG",
        "colab_type": "text"
      },
      "source": [
        "Feedforward network is a two-layer fully connected layers module, with the Relu activation in the hidden layer. The dimension of the hidden layer is 2048 by default."
      ]
    },
    {
      "cell_type": "code",
      "metadata": {
        "id": "PTLKwgK28lHX",
        "colab_type": "code",
        "colab": {}
      },
      "source": [
        "class FeedForward(nn.Module):\n",
        "    def __init__(self, d_model, d_hidden = 2048 , test_mode = False ):\n",
        "        super().__init__()\n",
        "        self.d_model = d_model\n",
        "        self.d_hidden = d_hidden\n",
        "        self.linear1 = nn.Linear( d_model, d_hidden )\n",
        "        self.linear2 = nn.Linear( d_hidden, d_model )\n",
        "        if test_mode:      \n",
        "            naive_init(self.linear1 )\n",
        "            naive_init(self.linear2 )\n",
        "    \n",
        "    def forward(self, x):\n",
        "        net =  F.relu(self.linear1(x))\n",
        "        out =  self.linear2(net)\n",
        "        return out"
      ],
      "execution_count": 0,
      "outputs": []
    },
    {
      "cell_type": "code",
      "metadata": {
        "id": "xWPvCs-X_II5",
        "colab_type": "code",
        "outputId": "b9a10718-6b98-4d1a-d824-dff3a2d29959",
        "colab": {
          "base_uri": "https://localhost:8080/",
          "height": 50
        }
      },
      "source": [
        "## test\n",
        "aaa = torch.randn(2,10)\n",
        "fw = FeedForward( 10, 20,  test_mode= True )\n",
        "fw(aaa)"
      ],
      "execution_count": 0,
      "outputs": [
        {
          "output_type": "execute_result",
          "data": {
            "text/plain": [
              "tensor([[0., 0., 0., 0., 0., 0., 0., 0., 0., 0.],\n",
              "        [0., 0., 0., 0., 0., 0., 0., 0., 0., 0.]], grad_fn=<AddmmBackward>)"
            ]
          },
          "metadata": {
            "tags": []
          },
          "execution_count": 32
        }
      ]
    },
    {
      "cell_type": "markdown",
      "metadata": {
        "id": "36gRL5XfOG8N",
        "colab_type": "text"
      },
      "source": [
        "### With the modules above, we are now able to implement one layer of the Encoder, and one layer of Decoder"
      ]
    },
    {
      "cell_type": "code",
      "metadata": {
        "id": "8i-wcLDX8lWj",
        "colab_type": "code",
        "colab": {}
      },
      "source": [
        "class EncoderLayer(nn.Module):\n",
        "    def __init__(self, d_model, num_head, d_hidden=2048 ):\n",
        "        super().__init__()\n",
        "\n",
        "        \n",
        "        self.multi_head_attention = MultiHeadAttention(d_model, num_head)\n",
        "        self.norm1 = nn.LayerNorm( d_model )\n",
        "        self.feed_forward = FeedForward( d_model, d_hidden )\n",
        "        self.norm2 = nn.LayerNorm( d_model )\n",
        "    \n",
        "    def forward( self, x, mask  ):\n",
        "\n",
        "        x1 = self.multi_head_attention( x, x, x, mask )\n",
        "        x = self.norm1( x + x1 )\n",
        "        \n",
        "        x1 = self.feed_forward(x)\n",
        "        x = self.norm2( x + x1 )\n",
        "        \n",
        "        return x\n",
        "\n",
        "class DecoderLayer(nn.Module):\n",
        "    def __init__( self,  d_model, num_head, d_hidden=2048 ):\n",
        "        super().__init__()\n",
        "\n",
        "        \n",
        "        self.masked_multi_head_attention = MultiHeadAttention( d_model, num_head)\n",
        "        self.norm1 = nn.LayerNorm( d_model )\n",
        "        self.multi_head_attention = MultiHeadAttention( d_model, num_head )\n",
        "        self.norm2 = nn.LayerNorm( d_model )\n",
        "        self.feed_forward = FeedForward( d_model, d_hidden )\n",
        "        self.norm3 = nn.LayerNorm( d_model )\n",
        "    \n",
        "    def forward(self, x, enc_out, src_mask, tgt_mask ):\n",
        "\n",
        "        x1 = self.masked_multi_head_attention( x,x,x, tgt_mask )\n",
        "        x = self.norm1( x + x1 )\n",
        "        \n",
        "        x1 = self.multi_head_attention( x, enc_out, enc_out,  src_mask )\n",
        "        x = self.norm2( x + x1 )\n",
        "        \n",
        "        x1 = self.feed_forward( x )\n",
        "        x = self.norm3( x + x1 )\n",
        "        return x\n",
        "        \n",
        "        "
      ],
      "execution_count": 0,
      "outputs": []
    },
    {
      "cell_type": "code",
      "metadata": {
        "id": "8GphiEw_pEzX",
        "colab_type": "code",
        "colab": {}
      },
      "source": [
        "# we define a module clone function\n",
        "\n",
        "import copy\n",
        "def get_clones(module, N):\n",
        "    return nn.ModuleList( [copy.deepcopy(module) for _ in range(N)  ] )"
      ],
      "execution_count": 0,
      "outputs": []
    },
    {
      "cell_type": "markdown",
      "metadata": {
        "id": "awkWpHVtjyvu",
        "colab_type": "text"
      },
      "source": [
        "### Then we have the Encoder and Decoder"
      ]
    },
    {
      "cell_type": "code",
      "metadata": {
        "id": "50JZ4_VN8lan",
        "colab_type": "code",
        "colab": {}
      },
      "source": [
        "class Encoder(nn.Module):\n",
        "    def __init__(self, vocab_size, d_model, num_head, N, max_len, d_hidden=2048  ):\n",
        "        # N is the number of encoder layers\n",
        "        super().__init__()\n",
        "        \n",
        "        self.word_embedding = nn.Embedding( vocab_size, d_model )\n",
        "        self.pe = PositionalEncoder( d_model, max_len= max_len )\n",
        "        self.encoder_layers = get_clones( EncoderLayer( d_model, num_head, d_hidden ), N )\n",
        "        \n",
        "    def forward(self, src, src_mask ):\n",
        "        x = self.word_embedding( src )\n",
        "        x = self.pe(x)\n",
        "        for encoder_layer in self.encoder_layers:\n",
        "            x = encoder_layer( x, src_mask )\n",
        "        \n",
        "        return x\n",
        "\n",
        "## Note that we only use the last layer's output of the encoder, and send this enc_output to each layer of the decoder\n",
        "class Decoder(nn.Module):\n",
        "    def __init__(self, vocab_size, d_model, num_head, N, max_len, d_hidden=2048 ):\n",
        "        super().__init__()\n",
        "        \n",
        "        self.word_embedding = nn.Embedding( vocab_size, d_model )\n",
        "        self.pe = PositionalEncoder( d_model, max_len )\n",
        "        \n",
        "        self.decoder_layers = get_clones( DecoderLayer(d_model, num_head, d_hidden ) , N )\n",
        "        \n",
        "        self.linear_out = nn.Linear( d_model, vocab_size )\n",
        "        \n",
        "        \n",
        "    def forward( self, tgt, enc_output, src_mask, tgt_mask ):\n",
        "\n",
        "        \n",
        "        x = self.word_embedding( tgt )\n",
        "        x = self.pe(x)\n",
        "        for decoder_layer in self.decoder_layers:\n",
        "            x = decoder_layer( x, enc_output, src_mask, tgt_mask )\n",
        "        x = self.linear_out(x)\n",
        "        return x\n",
        "        "
      ],
      "execution_count": 0,
      "outputs": []
    },
    {
      "cell_type": "markdown",
      "metadata": {
        "id": "b6kUstIbvI3H",
        "colab_type": "text"
      },
      "source": [
        "### And finally, the Transformer!"
      ]
    },
    {
      "cell_type": "code",
      "metadata": {
        "id": "Ybgjb6aF8lPh",
        "colab_type": "code",
        "colab": {}
      },
      "source": [
        "class Transformer(nn.Module):\n",
        "    def __init__(self, src_vocab_size , src_pad_index, tgt_vocab_size, tgt_pad_index, d_model=512, num_head=8, N = 6, max_len=MAX_LEN, d_hidden = 2048 ):\n",
        "        super().__init__()\n",
        "        self.src_pad_index = src_pad_index\n",
        "        self.tgt_pad_index = tgt_pad_index\n",
        "        \n",
        "        self.encoder = Encoder(src_vocab_size,  d_model, num_head, N, max_len, d_hidden  )\n",
        "        self.decoder = Decoder(tgt_vocab_size,  d_model, num_head, N, max_len, d_hidden  )\n",
        "    \n",
        "    def forward(self, src, tgt):\n",
        "        src_mask = atten_mask( src, self.src_pad_index, add_sequence_mask = False )\n",
        "        tgt_mask = atten_mask( tgt, self.tgt_pad_index, add_sequence_mask = True  )\n",
        "        \n",
        "        enc_output = self.encoder(src, src_mask)\n",
        "        dec_out = self.decoder( tgt, enc_output, src_mask, tgt_mask )\n",
        "        \n",
        "        return dec_out"
      ],
      "execution_count": 0,
      "outputs": []
    },
    {
      "cell_type": "code",
      "metadata": {
        "id": "mdc5BI_2E64x",
        "colab_type": "code",
        "colab": {}
      },
      "source": [
        "def train( model, optim, epoch =0, num_epochs = 101, print_every = 100, device = device ):\n",
        "    model.to(device)\n",
        "    for epoch in range(epoch, num_epochs):\n",
        "        running_loss = 0.0\n",
        "        for i , data in enumerate( train_iter, 0 ):\n",
        "            src_input = data.German.transpose(0,1).to(device)\n",
        "            tgt = data.English.transpose(0,1)\n",
        "            tgt_input = tgt[:, :-1].to(device)\n",
        "            tgt_output = tgt[:, 1: ].contiguous().view(-1).to(device)\n",
        "            \n",
        "            # zero the parameters' gradients\n",
        "            optim.zero_grad()\n",
        "            # feed into the model\n",
        "            outputs = model( src_input, tgt_input )\n",
        "            # reshape the outputs' shape, to make it into the shape [ N, C ], where C is the number of classes\n",
        "            outputs = outputs.view( -1, outputs.shape[-1] )\n",
        "            # compute the loss, and ignore the gradients for target value = tgt_pad_index\n",
        "            loss = F.cross_entropy( outputs, tgt_output, ignore_index = tgt_pad_index )\n",
        "            loss.backward()\n",
        "            optim.step()\n",
        "            \n",
        "            ## print loss statistics\n",
        "            running_loss += loss.item()\n",
        "            if i % print_every == print_every-1:\n",
        "                print( '[%d, %5d] loss: %.3f' % (epoch + 1, i + 1, running_loss / print_every)) \n",
        "                running_loss = 0\n",
        "        # save the model every 5 epochs\n",
        "        if epoch % 5==4:\n",
        "            torch.save({ \"epoch\":epoch, \"model_state_dict\":model.state_dict(), \"optimizer_state_dict\": optim.state_dict(), \"loss\":loss }, \"./model.pt\")\n",
        "    \n",
        "    print(\"End training!\")"
      ],
      "execution_count": 0,
      "outputs": []
    },
    {
      "cell_type": "code",
      "metadata": {
        "id": "40cbg02A8lMi",
        "colab_type": "code",
        "colab": {}
      },
      "source": [
        "src_vocab_size = len(DE_Field.vocab)\n",
        "src_pad_index = DE_Field.vocab.stoi[\"<pad>\"]\n",
        "tgt_vocab_size = len(EN_Field.vocab)\n",
        "tgt_pad_index = EN_Field.vocab.stoi[\"<pad>\"]\n",
        "d_model = 512\n",
        "num_head = 8\n",
        "N = 6 \n",
        "max_len = MAX_LEN\n",
        "d_hidden = 2048"
      ],
      "execution_count": 0,
      "outputs": []
    },
    {
      "cell_type": "code",
      "metadata": {
        "id": "x4tD3INWF0Jc",
        "colab_type": "code",
        "outputId": "574055c7-296c-408e-9cd4-71c2df379df0",
        "colab": {
          "base_uri": "https://localhost:8080/",
          "height": 950
        }
      },
      "source": [
        "model = Transformer(  src_vocab_size , src_pad_index, tgt_vocab_size, tgt_pad_index, d_model = d_model , num_head = num_head , N = N , max_len = max_len , d_hidden = d_hidden  )\n",
        "optim = torch.optim.Adam( model.parameters(), lr= 1e-3 )\n",
        "epoch = 0\n",
        "## Resume training\n",
        "if os.path.exists(\"./model.pt\"):\n",
        "    ckpt = torch.load(\"./model.pt\")\n",
        "    model.load_state_dict( ckpt[\"model_state_dict\"] )\n",
        "    optim.load_state_dict( ckpt[\"optimizer_state_dict\"])\n",
        "    epoch = ckpt[\"epoch\"]\n",
        "    print(\"checkpoint loaded!\")\n",
        "    print(model.eval())\n",
        "\n",
        "train(model, optim, epoch = epoch)\n",
        "\n",
        "\n"
      ],
      "execution_count": 0,
      "outputs": [
        {
          "output_type": "stream",
          "text": [
            "[1,   100] loss: 6.647\n",
            "[1,   200] loss: 6.340\n",
            "[1,   300] loss: 6.389\n",
            "[1,   400] loss: 6.375\n",
            "[1,   500] loss: 6.372\n",
            "[1,   600] loss: 6.360\n",
            "[1,   700] loss: 6.347\n",
            "[1,   800] loss: 6.321\n",
            "[1,   900] loss: 6.344\n",
            "[1,  1000] loss: 6.305\n",
            "[1,  1100] loss: 6.336\n",
            "[1,  1200] loss: 6.328\n",
            "[1,  1300] loss: 6.321\n",
            "[1,  1400] loss: 6.316\n",
            "[1,  1500] loss: 6.311\n",
            "[1,  1600] loss: 6.341\n",
            "[1,  1700] loss: 6.347\n",
            "[1,  1800] loss: 6.322\n",
            "[1,  1900] loss: 6.320\n",
            "[1,  2000] loss: 6.339\n",
            "[1,  2100] loss: 6.336\n",
            "[1,  2200] loss: 6.314\n",
            "[1,  2300] loss: 6.338\n",
            "[1,  2400] loss: 6.328\n",
            "[1,  2500] loss: 6.305\n",
            "[1,  2600] loss: 6.311\n",
            "[2,   100] loss: 6.293\n",
            "[2,   200] loss: 6.319\n",
            "[2,   300] loss: 6.279\n",
            "[2,   400] loss: 6.305\n",
            "[2,   500] loss: 6.335\n",
            "[2,   600] loss: 6.321\n",
            "[2,   700] loss: 6.332\n",
            "[2,   800] loss: 6.306\n",
            "[2,   900] loss: 6.288\n",
            "[2,  1000] loss: 6.321\n",
            "[2,  1100] loss: 6.310\n",
            "[2,  1200] loss: 6.306\n",
            "[2,  1300] loss: 6.294\n",
            "[2,  1400] loss: 6.283\n",
            "[2,  1500] loss: 6.273\n",
            "[2,  1600] loss: 6.276\n",
            "[2,  1700] loss: 6.310\n",
            "[2,  1800] loss: 6.355\n",
            "[2,  1900] loss: 6.319\n",
            "[2,  2000] loss: 6.305\n",
            "[2,  2100] loss: 6.296\n",
            "[2,  2200] loss: 6.252\n",
            "[2,  2300] loss: 6.297\n",
            "[2,  2400] loss: 6.311\n",
            "[2,  2500] loss: 6.302\n",
            "[2,  2600] loss: 6.345\n",
            "[3,   100] loss: 6.324\n",
            "[3,   200] loss: 6.291\n",
            "[3,   300] loss: 6.271\n",
            "[3,   400] loss: 6.337\n"
          ],
          "name": "stdout"
        }
      ]
    },
    {
      "cell_type": "code",
      "metadata": {
        "id": "Oy8599ILGupo",
        "colab_type": "code",
        "colab": {}
      },
      "source": [
        "!nvidia-smi"
      ],
      "execution_count": 0,
      "outputs": []
    },
    {
      "cell_type": "code",
      "metadata": {
        "id": "3I3drnL4G7kr",
        "colab_type": "code",
        "colab": {}
      },
      "source": [
        "! top"
      ],
      "execution_count": 0,
      "outputs": []
    },
    {
      "cell_type": "markdown",
      "metadata": {
        "id": "T9s440_SGPCb",
        "colab_type": "text"
      },
      "source": [
        "### This is a small sample of writting self defined Dataset "
      ]
    },
    {
      "cell_type": "code",
      "metadata": {
        "id": "pgdQ5G5nPy6_",
        "colab_type": "code",
        "colab": {}
      },
      "source": [
        "!python -m spacy download de"
      ],
      "execution_count": 0,
      "outputs": []
    },
    {
      "cell_type": "code",
      "metadata": {
        "colab_type": "code",
        "id": "TK6IBKvGPOSg",
        "colab": {}
      },
      "source": [
        "\"\"\"\n",
        "This file is mainly used for text preprocessing\n",
        "\"\"\"\n",
        "import re\n",
        "import unicodedata\n",
        "import numpy as np\n",
        "\n",
        "DATA_PATH = \"data/de-en/europarl-v7.de-en.\"\n",
        "MAX_LENGTH = 10\n",
        "\n",
        "\n",
        "## first define the vocabulary class, which is used to contain the word2index, index2word, word2count, n_word\n",
        "class Vocab:\n",
        "    def __init__(self, name):\n",
        "        self.name = name\n",
        "        self.word2index = {}\n",
        "        self.index2word = { 0:\"SOS\", 1:\"EOS\" }  # SOS start of sentence, EOS end of sentence\n",
        "        self.word2count = {}\n",
        "        self.num_words = 2\n",
        "    \n",
        "    ## This input sentence is assumed to be clean!\n",
        "    def add_sentence(self, sentence ):\n",
        "        for word in sentence.split(\" \"):\n",
        "            self.add_word( word )\n",
        "\n",
        "    def add_word(self, word):\n",
        "        if word not in self.word2index:\n",
        "            self.word2index[word] = self.num_words\n",
        "            self.index2word[self.num_words] = word\n",
        "            self.word2count[word] = 1\n",
        "            self.num_words +=1\n",
        "        else:\n",
        "            self.word2count[word] +=1\n",
        "\n",
        "\n",
        "\n",
        "\n",
        "# fh = open(\"data/de-en/europarl-v7.de-en.en\")\n",
        "# input_lang = \"de\"\n",
        "# output_lang = \"en\"\n",
        "\n",
        "# pairs, input_vocab, output_vocab = load_sentence_pairs(input_lang,output_lang )\n",
        "\n",
        "import torch\n",
        "from torch.utils.data import Dataset, DataLoader\n",
        "from torchvision import transforms\n",
        "\n",
        "class CorpusDataset(Dataset):\n",
        "    ## functions used to clean each line. customized\n",
        "    def unicode_to_ascii(self, s):\n",
        "        return \"\".join( [c for c in unicodedata.normalize(\"NFD\", s)  if unicodedata.category(c) != \"Mn\" ]   )\n",
        "\n",
        "    def clean_string(self, s):\n",
        "        s = self.unicode_to_ascii(s)\n",
        "        s = s.lower().strip()\n",
        "        ## add space before and after the punctuation . ? !\n",
        "        s = re.sub( r\"([.!?])\", r\" \\1\", s )\n",
        "        s = re.sub( r\"[^a-zA-Z.?!]\", r\" \", s )\n",
        "        return s\n",
        "    \n",
        "    ## above are customized functions for tokenization\n",
        "\n",
        "    def __init__( self, input_lang, output_lang, data_path = DATA_PATH , transform = None, ):\n",
        "        self.input_vocab = Vocab(input_lang)\n",
        "        self.output_vocab = Vocab(output_lang)\n",
        "        self.transform = transform\n",
        "        \n",
        "        ## load sentence pairs into memory\n",
        "        f_input = open( data_path+input_lang, \"r\" ).readlines()\n",
        "        f_output = open( data_path+output_lang, \"r\" ).readlines()\n",
        "        assert len(f_input)==len(f_output)\n",
        "        idx =0\n",
        "        self.pairs=[]\n",
        "        ## clean and tokenize the input data and store them into the vocabulary and training pairs\n",
        "        for idx in range(len(f_input)):\n",
        "            ## filter out some long sentences to reduce the data size\n",
        "            if len( f_input[idx].split(\" \") )<MAX_LENGTH and len(f_output[idx].split(\" \") )<MAX_LENGTH :\n",
        "                \n",
        "                clean_input_sentence = self.clean_string( f_input[idx] )\n",
        "                clean_output_sentence = self.clean_string( f_output[idx] ) \n",
        "                self.input_vocab.add_sentence(clean_input_sentence)\n",
        "                self.output_vocab.add_sentence(clean_output_sentence)\n",
        "                \n",
        "                input_seq = [  self.input_vocab.word2index[w] for w in clean_input_sentence.split(\" \")  ]\n",
        "                output_seq = [ self.output_vocab.word2index[w] for w in clean_output_sentence.split(\" \") ]\n",
        "                \n",
        "                self.pairs.append(  [input_seq,output_seq  ] )\n",
        "\n",
        "            if idx % 10000 == 999:\n",
        "                print(\"\\r current progress: %.2f%%\"%( idx/len(f_input)*100 ), end=\"\", flush=True)\n",
        "        \n",
        "    def __len__(self):\n",
        "        return len(self.pairs)\n",
        "    \n",
        "    def __getitem__(self, idx):\n",
        "        \n",
        "        input_seq = np.array(self.pairs[idx][0])\n",
        "        output_seq =np.array(self.pairs[idx][1])\n",
        "        \n",
        "        sample = {\"input\": input_seq, \"output\": output_seq  }\n",
        "        \n",
        "        if self.transform:\n",
        "            sample = self.transform(sample)\n",
        "        \n",
        "        return sample\n",
        "\n",
        "class ToTensor(object):\n",
        "    \"\"\"convert ndarrays into Tensors\"\"\"\n",
        "    def __call__( self, sample ):\n",
        "        input_seq, output_seq = sample[\"input\"], sample[\"output\"]\n",
        "        \n",
        "        return {\"input\": torch.from_numpy( input_seq ), \"output\": torch.from_numpy( output_seq )  }    \n",
        "\n",
        "data = CorpusDataset(\"de\", \"en\", transform= transforms.Compose([ToTensor()]) )    \n",
        "for i in range(len(data)):\n",
        "    sample = data[i]\n",
        "    print(sample[\"input\"], sample[\"output\"])\n",
        "    if i ==10:\n",
        "        break\n",
        "\n",
        "dataloader = DataLoader( data, batch_size = 5, shuffle = True, num_workers =10  )\n",
        "iter(dataloader).next()"
      ],
      "execution_count": 0,
      "outputs": []
    }
  ]
}